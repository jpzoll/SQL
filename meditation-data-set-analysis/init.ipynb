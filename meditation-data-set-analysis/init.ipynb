{
 "cells": [
  {
   "cell_type": "code",
   "execution_count": 6,
   "id": "d93fe55c",
   "metadata": {
    "scrolled": true
   },
   "outputs": [
    {
     "name": "stdout",
     "output_type": "stream",
     "text": [
      "Collecting sqlalchemy\n",
      "  Downloading SQLAlchemy-2.0.0-cp310-cp310-macosx_11_0_arm64.whl (1.9 MB)\n",
      "\u001b[2K     \u001b[38;2;114;156;31m━━━━━━━━━━━━━━━━━━━━━━━━━━━━━━━━━━━━━━━━\u001b[0m \u001b[32m1.9/1.9 MB\u001b[0m \u001b[31m1.1 MB/s\u001b[0m eta \u001b[36m0:00:00\u001b[0mm eta \u001b[36m0:00:01\u001b[0m0:01\u001b[0m:01\u001b[0m0m\n",
      "\u001b[?25hRequirement already satisfied: typing-extensions>=4.2.0 in /Library/Frameworks/Python.framework/Versions/3.10/lib/python3.10/site-packages (from sqlalchemy) (4.4.0)\n",
      "Installing collected packages: sqlalchemy\n",
      "Successfully installed sqlalchemy-2.0.0\n",
      "\u001b[33mWARNING: You are using pip version 22.0.4; however, version 23.0 is available.\n",
      "You should consider upgrading via the '/Library/Frameworks/Python.framework/Versions/3.10/bin/python3 -m pip install --upgrade pip' command.\u001b[0m\u001b[33m\n",
      "\u001b[0m"
     ]
    }
   ],
   "source": [
    "!pip install sqlalchemy"
   ]
  },
  {
   "cell_type": "code",
   "execution_count": 7,
   "id": "ceb05bcc",
   "metadata": {
    "scrolled": false
   },
   "outputs": [],
   "source": [
    "import pandas as pd\n",
    "from sqlalchemy import create_engine"
   ]
  },
  {
   "cell_type": "code",
   "execution_count": 3,
   "id": "b9834d3e",
   "metadata": {
    "scrolled": true
   },
   "outputs": [
    {
     "data": {
      "text/html": [
       "<div>\n",
       "<style scoped>\n",
       "    .dataframe tbody tr th:only-of-type {\n",
       "        vertical-align: middle;\n",
       "    }\n",
       "\n",
       "    .dataframe tbody tr th {\n",
       "        vertical-align: top;\n",
       "    }\n",
       "\n",
       "    .dataframe thead th {\n",
       "        text-align: right;\n",
       "    }\n",
       "</style>\n",
       "<table border=\"1\" class=\"dataframe\">\n",
       "  <thead>\n",
       "    <tr style=\"text-align: right;\">\n",
       "      <th></th>\n",
       "      <th>Name</th>\n",
       "      <th>Date &amp; Time ⏰</th>\n",
       "      <th>Tags</th>\n",
       "      <th>Length (Minutes)</th>\n",
       "      <th>Guided</th>\n",
       "      <th>Real date</th>\n",
       "    </tr>\n",
       "  </thead>\n",
       "  <tbody>\n",
       "    <tr>\n",
       "      <th>0</th>\n",
       "      <td>Fuzzies in the mind</td>\n",
       "      <td>January 31, 2023 12:27 PM</td>\n",
       "      <td>Mindfulness of Breathing</td>\n",
       "      <td>33.0</td>\n",
       "      <td>NaN</td>\n",
       "      <td>NaN</td>\n",
       "    </tr>\n",
       "    <tr>\n",
       "      <th>1</th>\n",
       "      <td>Part 1 pre meal</td>\n",
       "      <td>January 30, 2023 10:13 AM</td>\n",
       "      <td>Mindfulness of Breathing</td>\n",
       "      <td>12.0</td>\n",
       "      <td>NaN</td>\n",
       "      <td>NaN</td>\n",
       "    </tr>\n",
       "    <tr>\n",
       "      <th>2</th>\n",
       "      <td>Body body</td>\n",
       "      <td>January 28, 2023 2:54 PM</td>\n",
       "      <td>Forehead / Third Eye, Stillness</td>\n",
       "      <td>25.0</td>\n",
       "      <td>NaN</td>\n",
       "      <td>NaN</td>\n",
       "    </tr>\n",
       "    <tr>\n",
       "      <th>3</th>\n",
       "      <td>Contemplating 2 decision</td>\n",
       "      <td>January 27, 2023 3:55 PM</td>\n",
       "      <td>Body / Grounding Awareness, Contemplation</td>\n",
       "      <td>65.0</td>\n",
       "      <td>NaN</td>\n",
       "      <td>NaN</td>\n",
       "    </tr>\n",
       "    <tr>\n",
       "      <th>4</th>\n",
       "      <td>Please know</td>\n",
       "      <td>January 25, 2023 1:14 PM</td>\n",
       "      <td>Mindfulness of Breathing</td>\n",
       "      <td>23.0</td>\n",
       "      <td>NaN</td>\n",
       "      <td>NaN</td>\n",
       "    </tr>\n",
       "    <tr>\n",
       "      <th>...</th>\n",
       "      <td>...</td>\n",
       "      <td>...</td>\n",
       "      <td>...</td>\n",
       "      <td>...</td>\n",
       "      <td>...</td>\n",
       "      <td>...</td>\n",
       "    </tr>\n",
       "    <tr>\n",
       "      <th>266</th>\n",
       "      <td>First SP Metta Session | Opening up... somewhe...</td>\n",
       "      <td>July 8, 2021 2:32 PM</td>\n",
       "      <td>MIDL 03/52, MIDL Metta Loved One</td>\n",
       "      <td>47.0</td>\n",
       "      <td>NaN</td>\n",
       "      <td>NaN</td>\n",
       "    </tr>\n",
       "    <tr>\n",
       "      <th>267</th>\n",
       "      <td>Sitting With Pain</td>\n",
       "      <td>July 7, 2021 3:58 PM</td>\n",
       "      <td>Doing Nothing, Stillness</td>\n",
       "      <td>51.0</td>\n",
       "      <td>NaN</td>\n",
       "      <td>NaN</td>\n",
       "    </tr>\n",
       "    <tr>\n",
       "      <th>268</th>\n",
       "      <td>More Courageous Meditation. Not mine</td>\n",
       "      <td>July 1, 2021 3:34 PM</td>\n",
       "      <td>MIDL 03/52, MIDL Forgiveness</td>\n",
       "      <td>45.0</td>\n",
       "      <td>NaN</td>\n",
       "      <td>NaN</td>\n",
       "    </tr>\n",
       "    <tr>\n",
       "      <th>269</th>\n",
       "      <td>The Bravest Meditation Of My Life</td>\n",
       "      <td>June 29, 2021 3:04 PM</td>\n",
       "      <td>MIDL 03/52, MIDL Forgiveness</td>\n",
       "      <td>65.0</td>\n",
       "      <td>NaN</td>\n",
       "      <td>NaN</td>\n",
       "    </tr>\n",
       "    <tr>\n",
       "      <th>270</th>\n",
       "      <td>Short retraining and MIDL forgiveness</td>\n",
       "      <td>June 29, 2021 3:02 PM</td>\n",
       "      <td>MIDL 03/52</td>\n",
       "      <td>42.0</td>\n",
       "      <td>NaN</td>\n",
       "      <td>NaN</td>\n",
       "    </tr>\n",
       "  </tbody>\n",
       "</table>\n",
       "<p>271 rows × 6 columns</p>\n",
       "</div>"
      ],
      "text/plain": [
       "                                                  Name  \\\n",
       "0                                  Fuzzies in the mind   \n",
       "1                                      Part 1 pre meal   \n",
       "2                                            Body body   \n",
       "3                             Contemplating 2 decision   \n",
       "4                                          Please know   \n",
       "..                                                 ...   \n",
       "266  First SP Metta Session | Opening up... somewhe...   \n",
       "267                                  Sitting With Pain   \n",
       "268               More Courageous Meditation. Not mine   \n",
       "269                  The Bravest Meditation Of My Life   \n",
       "270              Short retraining and MIDL forgiveness   \n",
       "\n",
       "                 Date & Time ⏰                                       Tags  \\\n",
       "0    January 31, 2023 12:27 PM                   Mindfulness of Breathing   \n",
       "1    January 30, 2023 10:13 AM                   Mindfulness of Breathing   \n",
       "2     January 28, 2023 2:54 PM            Forehead / Third Eye, Stillness   \n",
       "3     January 27, 2023 3:55 PM  Body / Grounding Awareness, Contemplation   \n",
       "4     January 25, 2023 1:14 PM                   Mindfulness of Breathing   \n",
       "..                         ...                                        ...   \n",
       "266       July 8, 2021 2:32 PM           MIDL 03/52, MIDL Metta Loved One   \n",
       "267       July 7, 2021 3:58 PM                   Doing Nothing, Stillness   \n",
       "268       July 1, 2021 3:34 PM               MIDL 03/52, MIDL Forgiveness   \n",
       "269      June 29, 2021 3:04 PM               MIDL 03/52, MIDL Forgiveness   \n",
       "270      June 29, 2021 3:02 PM                                 MIDL 03/52   \n",
       "\n",
       "     Length (Minutes) Guided Real date  \n",
       "0                33.0    NaN       NaN  \n",
       "1                12.0    NaN       NaN  \n",
       "2                25.0    NaN       NaN  \n",
       "3                65.0    NaN       NaN  \n",
       "4                23.0    NaN       NaN  \n",
       "..                ...    ...       ...  \n",
       "266              47.0    NaN       NaN  \n",
       "267              51.0    NaN       NaN  \n",
       "268              45.0    NaN       NaN  \n",
       "269              65.0    NaN       NaN  \n",
       "270              42.0    NaN       NaN  \n",
       "\n",
       "[271 rows x 6 columns]"
      ]
     },
     "execution_count": 3,
     "metadata": {},
     "output_type": "execute_result"
    }
   ],
   "source": [
    "df = pd.read_csv('data/meditation_sit_log.csv')\n",
    "df"
   ]
  },
  {
   "cell_type": "code",
   "execution_count": 14,
   "id": "fcab612d",
   "metadata": {},
   "outputs": [],
   "source": [
    "engine = create_engine('sqlite://', echo=False)"
   ]
  },
  {
   "cell_type": "code",
   "execution_count": 16,
   "id": "8811afbe",
   "metadata": {},
   "outputs": [
    {
     "ename": "AttributeError",
     "evalue": "'Engine' object has no attribute 'execute'",
     "output_type": "error",
     "traceback": [
      "\u001b[0;31m---------------------------------------------------------------------------\u001b[0m",
      "\u001b[0;31mAttributeError\u001b[0m                            Traceback (most recent call last)",
      "Input \u001b[0;32mIn [16]\u001b[0m, in \u001b[0;36m<cell line: 1>\u001b[0;34m()\u001b[0m\n\u001b[0;32m----> 1\u001b[0m \u001b[43mengine\u001b[49m\u001b[38;5;241;43m.\u001b[39;49m\u001b[43mexecute\u001b[49m(\u001b[38;5;124m\"\u001b[39m\u001b[38;5;124mSELECT * FROM users\u001b[39m\u001b[38;5;124m\"\u001b[39m)\u001b[38;5;241m.\u001b[39mfetchall()\n",
      "\u001b[0;31mAttributeError\u001b[0m: 'Engine' object has no attribute 'execute'"
     ]
    }
   ],
   "source": [
    "engine.execute(\"SELECT * FROM users\").fetchall()"
   ]
  },
  {
   "cell_type": "code",
   "execution_count": 20,
   "id": "6d02dd1e",
   "metadata": {},
   "outputs": [
    {
     "data": {
      "text/plain": [
       "271"
      ]
     },
     "execution_count": 20,
     "metadata": {},
     "output_type": "execute_result"
    }
   ],
   "source": [
    "df.to_sql('meditations', con=engine)"
   ]
  },
  {
   "cell_type": "code",
   "execution_count": null,
   "id": "c2b932df",
   "metadata": {},
   "outputs": [],
   "source": []
  }
 ],
 "metadata": {
  "kernelspec": {
   "display_name": "Python 3 (ipykernel)",
   "language": "python",
   "name": "python3"
  },
  "language_info": {
   "codemirror_mode": {
    "name": "ipython",
    "version": 3
   },
   "file_extension": ".py",
   "mimetype": "text/x-python",
   "name": "python",
   "nbconvert_exporter": "python",
   "pygments_lexer": "ipython3",
   "version": "3.10.2"
  }
 },
 "nbformat": 4,
 "nbformat_minor": 5
}
